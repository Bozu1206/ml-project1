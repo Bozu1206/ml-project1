{
 "cells": [
  {
   "cell_type": "code",
   "execution_count": 5,
   "metadata": {},
   "outputs": [],
   "source": [
    "import numpy as np\n",
    "import random\n",
    "import matplotlib.pyplot as plt\n",
    "import pandas as pd\n",
    "import csv\n",
    "import sys \n",
    "\n",
    "sys.path.append(\"/home/souly/Desktop/ml/ml-project1\")\n",
    "from src import helpers, preprocessing, exploration, polynomial_exp\n",
    "from src.helpers import split_data_rand\n",
    "from sklearn.metrics import f1_score\n",
    "from sklearn.linear_model import LogisticRegression\n",
    "from src.preprocessing import undefined_to_median, undefined_to_mean, prune_undefined"
   ]
  },
  {
   "cell_type": "code",
   "execution_count": 6,
   "metadata": {},
   "outputs": [],
   "source": [
    "x_df = pd.read_csv(\"../data/raw/x_train.csv\")\n",
    "y_df = pd.read_csv(\"../data/raw/y_train.csv\")"
   ]
  },
  {
   "cell_type": "code",
   "execution_count": 10,
   "metadata": {},
   "outputs": [
    {
     "name": "stdout",
     "output_type": "stream",
     "text": [
      "28975\n",
      "299160\n",
      "28975\n",
      "(46360, 27)\n",
      "(11590, 27)\n"
     ]
    }
   ],
   "source": [
    "# preprocessing\n",
    "seed = 23\n",
    "degree = 1\n",
    "\n",
    "x = x_df.values\n",
    "y = y_df[\"_MICHD\"].values\n",
    "\n",
    "positive_indices = np.where(y == 1)[0]\n",
    "negative_indices = np.where(y != 1)[0]\n",
    "\n",
    "min_samples = min(len(positive_indices), len(negative_indices))\n",
    "\n",
    "random.seed(seed)\n",
    "downsampled_negative_indices = random.sample(list(negative_indices), min_samples)\n",
    "\n",
    "balanced_indices = np.concatenate([positive_indices, downsampled_negative_indices])\n",
    "random.shuffle(balanced_indices)\n",
    "\n",
    "balanced_x = x[balanced_indices]\n",
    "balanced_y = y[balanced_indices]\n",
    "\n",
    "split_ratio = 0.8  # 80% train, 20% test\n",
    "split_index = int(len(balanced_x) * split_ratio)\n",
    "\n",
    "x_train = balanced_x[:split_index]\n",
    "y_train = balanced_y[:split_index]\n",
    "x_test = balanced_x[split_index:]\n",
    "y_test = balanced_y[split_index:]\n",
    "\n",
    "x_train = preprocessing.clean_features(x_train)\n",
    "x_test = preprocessing.clean_features(x_test)\n",
    "\n",
    "x_train = undefined_to_mean(x_train)\n",
    "x_train = helpers.standardize(x_train)\n",
    "print(x_train.shape)\n",
    "\n",
    "x_test = undefined_to_mean(x_test)\n",
    "x_test = helpers.standardize(x_test)\n",
    "print(x_test.shape)"
   ]
  },
  {
   "cell_type": "code",
   "execution_count": 8,
   "metadata": {},
   "outputs": [
    {
     "name": "stdout",
     "output_type": "stream",
     "text": [
      "Accuracy: 0.7262295081967213\n",
      "F1: 0.7301641296028573\n"
     ]
    },
    {
     "name": "stderr",
     "output_type": "stream",
     "text": [
      "/home/souly/.local/lib/python3.8/site-packages/sklearn/linear_model/_logistic.py:460: ConvergenceWarning: lbfgs failed to converge (status=1):\n",
      "STOP: TOTAL NO. of ITERATIONS REACHED LIMIT.\n",
      "\n",
      "Increase the number of iterations (max_iter) or scale the data as shown in:\n",
      "    https://scikit-learn.org/stable/modules/preprocessing.html\n",
      "Please also refer to the documentation for alternative solver options:\n",
      "    https://scikit-learn.org/stable/modules/linear_model.html#logistic-regression\n",
      "  n_iter_i = _check_optimize_result(\n"
     ]
    }
   ],
   "source": [
    "model = LogisticRegression()\n",
    "model.fit(x_train, y_train)\n",
    "print(\"Accuracy: \" + str(model.score(x_test, y_test)))\n",
    "pred = model.predict(x_test)\n",
    "print(\"F1: \" + str(f1_score(y_test, pred)))"
   ]
  },
  {
   "cell_type": "code",
   "execution_count": null,
   "metadata": {},
   "outputs": [],
   "source": []
  }
 ],
 "metadata": {
  "kernelspec": {
   "display_name": "Python 3.8.10 64-bit",
   "language": "python",
   "name": "python3"
  },
  "language_info": {
   "codemirror_mode": {
    "name": "ipython",
    "version": 3
   },
   "file_extension": ".py",
   "mimetype": "text/x-python",
   "name": "python",
   "nbconvert_exporter": "python",
   "pygments_lexer": "ipython3",
   "version": "3.8.10"
  },
  "orig_nbformat": 4,
  "vscode": {
   "interpreter": {
    "hash": "916dbcbb3f70747c44a77c7bcd40155683ae19c65e1c03b4aa3499c5328201f1"
   }
  }
 },
 "nbformat": 4,
 "nbformat_minor": 2
}

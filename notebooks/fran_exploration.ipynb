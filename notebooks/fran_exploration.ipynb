{
 "cells": [
  {
   "cell_type": "code",
   "execution_count": 2,
   "metadata": {},
   "outputs": [],
   "source": [
    "import pandas as pd\n",
    "import numpy as np\n",
    "import matplotlib.pyplot as plt\n",
    "import seaborn as sns\n",
    "\n",
    "pd.set_option(\"display.max_columns\", 100)"
   ]
  },
  {
   "cell_type": "code",
   "execution_count": 3,
   "metadata": {},
   "outputs": [],
   "source": [
    "# df = pd.read_csv(\"./DATA/y_train.csv\")\n",
    "# truemalade = df[df[\"_MICHD\"] == 1]"
   ]
  },
  {
   "cell_type": "code",
   "execution_count": 4,
   "metadata": {},
   "outputs": [],
   "source": [
    "# print(f\"#of patient with heart desease : {len(truemalade) / len(df) * 100:.2f}%\")"
   ]
  },
  {
   "cell_type": "code",
   "execution_count": null,
   "metadata": {},
   "outputs": [],
   "source": []
  },
  {
   "cell_type": "code",
   "execution_count": 5,
   "metadata": {},
   "outputs": [],
   "source": [
    "# # LazyPredict exploration\n",
    "# from lazypredict.Supervised import LazyClassifier\n",
    "# from sklearn.datasets import load_breast_cancer\n",
    "# from sklearn.model_selection import train_test_split\n",
    "# from sklearn.utils import all_estimators\n",
    "\n",
    "# df_X = pd.read_csv(\"./DATA/x_train.csv\")\n",
    "# df_y = pd.read_csv(\"./DATA/y_train.csv\")"
   ]
  },
  {
   "cell_type": "code",
   "execution_count": null,
   "metadata": {},
   "outputs": [],
   "source": []
  },
  {
   "cell_type": "code",
   "execution_count": 6,
   "metadata": {},
   "outputs": [],
   "source": [
    "# X_train, X_test, y_train, y_test = train_test_split(df_X.to_numpy(), df_y.squeeze(), test_size=.2,random_state=123)\n",
    "\n",
    "\n",
    "# classifier = [clf for clf in all_estimators() if (clf[0] == 'LinearSVC')]\n",
    "# clf = LazyClassifier(verbose=1, ignore_warnings=False, custom_metric=None, classifiers=classifier)\n",
    "# #print([est[0] for est in all_estimators()])"
   ]
  },
  {
   "cell_type": "code",
   "execution_count": 7,
   "metadata": {},
   "outputs": [],
   "source": [
    "# models,predictions = clf.fit(X_train, X_test, y_train, y_test)\n",
    "# print(models)\n",
    "# #\n",
    "# # performs poorly, need data preprocessing"
   ]
  },
  {
   "cell_type": "code",
   "execution_count": 8,
   "metadata": {},
   "outputs": [],
   "source": [
    "# df_X['ALCDAY5']"
   ]
  },
  {
   "cell_type": "code",
   "execution_count": null,
   "metadata": {},
   "outputs": [],
   "source": []
  },
  {
   "cell_type": "code",
   "execution_count": 9,
   "metadata": {},
   "outputs": [
    {
     "data": {
      "text/html": [
       "<div>\n",
       "<style scoped>\n",
       "    .dataframe tbody tr th:only-of-type {\n",
       "        vertical-align: middle;\n",
       "    }\n",
       "\n",
       "    .dataframe tbody tr th {\n",
       "        vertical-align: top;\n",
       "    }\n",
       "\n",
       "    .dataframe thead th {\n",
       "        text-align: right;\n",
       "    }\n",
       "</style>\n",
       "<table border=\"1\" class=\"dataframe\">\n",
       "  <thead>\n",
       "    <tr style=\"text-align: right;\">\n",
       "      <th></th>\n",
       "      <th>HeartDiseaseorAttack</th>\n",
       "      <th>HighBP</th>\n",
       "      <th>HighChol</th>\n",
       "      <th>CholCheck</th>\n",
       "      <th>BMI</th>\n",
       "      <th>Smoker</th>\n",
       "      <th>Stroke</th>\n",
       "      <th>Diabetes</th>\n",
       "      <th>PhysActivity</th>\n",
       "      <th>Fruits</th>\n",
       "      <th>Veggies</th>\n",
       "      <th>HvyAlcoholConsump</th>\n",
       "      <th>AnyHealthcare</th>\n",
       "      <th>NoDocbcCost</th>\n",
       "      <th>GenHlth</th>\n",
       "      <th>MentHlth</th>\n",
       "      <th>PhysHlth</th>\n",
       "      <th>DiffWalk</th>\n",
       "      <th>Sex</th>\n",
       "      <th>Age</th>\n",
       "      <th>Education</th>\n",
       "      <th>Income</th>\n",
       "    </tr>\n",
       "  </thead>\n",
       "  <tbody>\n",
       "    <tr>\n",
       "      <th>0</th>\n",
       "      <td>0.0</td>\n",
       "      <td>1.0</td>\n",
       "      <td>1.0</td>\n",
       "      <td>1.0</td>\n",
       "      <td>40.0</td>\n",
       "      <td>1.0</td>\n",
       "      <td>0.0</td>\n",
       "      <td>0.0</td>\n",
       "      <td>0.0</td>\n",
       "      <td>0.0</td>\n",
       "      <td>1.0</td>\n",
       "      <td>0.0</td>\n",
       "      <td>1.0</td>\n",
       "      <td>0.0</td>\n",
       "      <td>5.0</td>\n",
       "      <td>18.0</td>\n",
       "      <td>15.0</td>\n",
       "      <td>1.0</td>\n",
       "      <td>0.0</td>\n",
       "      <td>9.0</td>\n",
       "      <td>4.0</td>\n",
       "      <td>3.0</td>\n",
       "    </tr>\n",
       "    <tr>\n",
       "      <th>1</th>\n",
       "      <td>0.0</td>\n",
       "      <td>0.0</td>\n",
       "      <td>0.0</td>\n",
       "      <td>0.0</td>\n",
       "      <td>25.0</td>\n",
       "      <td>1.0</td>\n",
       "      <td>0.0</td>\n",
       "      <td>0.0</td>\n",
       "      <td>1.0</td>\n",
       "      <td>0.0</td>\n",
       "      <td>0.0</td>\n",
       "      <td>0.0</td>\n",
       "      <td>0.0</td>\n",
       "      <td>1.0</td>\n",
       "      <td>3.0</td>\n",
       "      <td>0.0</td>\n",
       "      <td>0.0</td>\n",
       "      <td>0.0</td>\n",
       "      <td>0.0</td>\n",
       "      <td>7.0</td>\n",
       "      <td>6.0</td>\n",
       "      <td>1.0</td>\n",
       "    </tr>\n",
       "    <tr>\n",
       "      <th>2</th>\n",
       "      <td>0.0</td>\n",
       "      <td>1.0</td>\n",
       "      <td>1.0</td>\n",
       "      <td>1.0</td>\n",
       "      <td>28.0</td>\n",
       "      <td>0.0</td>\n",
       "      <td>0.0</td>\n",
       "      <td>0.0</td>\n",
       "      <td>0.0</td>\n",
       "      <td>1.0</td>\n",
       "      <td>0.0</td>\n",
       "      <td>0.0</td>\n",
       "      <td>1.0</td>\n",
       "      <td>1.0</td>\n",
       "      <td>5.0</td>\n",
       "      <td>30.0</td>\n",
       "      <td>30.0</td>\n",
       "      <td>1.0</td>\n",
       "      <td>0.0</td>\n",
       "      <td>9.0</td>\n",
       "      <td>4.0</td>\n",
       "      <td>8.0</td>\n",
       "    </tr>\n",
       "    <tr>\n",
       "      <th>3</th>\n",
       "      <td>0.0</td>\n",
       "      <td>1.0</td>\n",
       "      <td>0.0</td>\n",
       "      <td>1.0</td>\n",
       "      <td>27.0</td>\n",
       "      <td>0.0</td>\n",
       "      <td>0.0</td>\n",
       "      <td>0.0</td>\n",
       "      <td>1.0</td>\n",
       "      <td>1.0</td>\n",
       "      <td>1.0</td>\n",
       "      <td>0.0</td>\n",
       "      <td>1.0</td>\n",
       "      <td>0.0</td>\n",
       "      <td>2.0</td>\n",
       "      <td>0.0</td>\n",
       "      <td>0.0</td>\n",
       "      <td>0.0</td>\n",
       "      <td>0.0</td>\n",
       "      <td>11.0</td>\n",
       "      <td>3.0</td>\n",
       "      <td>6.0</td>\n",
       "    </tr>\n",
       "    <tr>\n",
       "      <th>4</th>\n",
       "      <td>0.0</td>\n",
       "      <td>1.0</td>\n",
       "      <td>1.0</td>\n",
       "      <td>1.0</td>\n",
       "      <td>24.0</td>\n",
       "      <td>0.0</td>\n",
       "      <td>0.0</td>\n",
       "      <td>0.0</td>\n",
       "      <td>1.0</td>\n",
       "      <td>1.0</td>\n",
       "      <td>1.0</td>\n",
       "      <td>0.0</td>\n",
       "      <td>1.0</td>\n",
       "      <td>0.0</td>\n",
       "      <td>2.0</td>\n",
       "      <td>3.0</td>\n",
       "      <td>0.0</td>\n",
       "      <td>0.0</td>\n",
       "      <td>0.0</td>\n",
       "      <td>11.0</td>\n",
       "      <td>5.0</td>\n",
       "      <td>4.0</td>\n",
       "    </tr>\n",
       "    <tr>\n",
       "      <th>...</th>\n",
       "      <td>...</td>\n",
       "      <td>...</td>\n",
       "      <td>...</td>\n",
       "      <td>...</td>\n",
       "      <td>...</td>\n",
       "      <td>...</td>\n",
       "      <td>...</td>\n",
       "      <td>...</td>\n",
       "      <td>...</td>\n",
       "      <td>...</td>\n",
       "      <td>...</td>\n",
       "      <td>...</td>\n",
       "      <td>...</td>\n",
       "      <td>...</td>\n",
       "      <td>...</td>\n",
       "      <td>...</td>\n",
       "      <td>...</td>\n",
       "      <td>...</td>\n",
       "      <td>...</td>\n",
       "      <td>...</td>\n",
       "      <td>...</td>\n",
       "      <td>...</td>\n",
       "    </tr>\n",
       "    <tr>\n",
       "      <th>253675</th>\n",
       "      <td>0.0</td>\n",
       "      <td>1.0</td>\n",
       "      <td>1.0</td>\n",
       "      <td>1.0</td>\n",
       "      <td>45.0</td>\n",
       "      <td>0.0</td>\n",
       "      <td>0.0</td>\n",
       "      <td>0.0</td>\n",
       "      <td>0.0</td>\n",
       "      <td>1.0</td>\n",
       "      <td>1.0</td>\n",
       "      <td>0.0</td>\n",
       "      <td>1.0</td>\n",
       "      <td>0.0</td>\n",
       "      <td>3.0</td>\n",
       "      <td>0.0</td>\n",
       "      <td>5.0</td>\n",
       "      <td>0.0</td>\n",
       "      <td>1.0</td>\n",
       "      <td>5.0</td>\n",
       "      <td>6.0</td>\n",
       "      <td>7.0</td>\n",
       "    </tr>\n",
       "    <tr>\n",
       "      <th>253676</th>\n",
       "      <td>0.0</td>\n",
       "      <td>1.0</td>\n",
       "      <td>1.0</td>\n",
       "      <td>1.0</td>\n",
       "      <td>18.0</td>\n",
       "      <td>0.0</td>\n",
       "      <td>0.0</td>\n",
       "      <td>2.0</td>\n",
       "      <td>0.0</td>\n",
       "      <td>0.0</td>\n",
       "      <td>0.0</td>\n",
       "      <td>0.0</td>\n",
       "      <td>1.0</td>\n",
       "      <td>0.0</td>\n",
       "      <td>4.0</td>\n",
       "      <td>0.0</td>\n",
       "      <td>0.0</td>\n",
       "      <td>1.0</td>\n",
       "      <td>0.0</td>\n",
       "      <td>11.0</td>\n",
       "      <td>2.0</td>\n",
       "      <td>4.0</td>\n",
       "    </tr>\n",
       "    <tr>\n",
       "      <th>253677</th>\n",
       "      <td>0.0</td>\n",
       "      <td>0.0</td>\n",
       "      <td>0.0</td>\n",
       "      <td>1.0</td>\n",
       "      <td>28.0</td>\n",
       "      <td>0.0</td>\n",
       "      <td>0.0</td>\n",
       "      <td>0.0</td>\n",
       "      <td>1.0</td>\n",
       "      <td>1.0</td>\n",
       "      <td>0.0</td>\n",
       "      <td>0.0</td>\n",
       "      <td>1.0</td>\n",
       "      <td>0.0</td>\n",
       "      <td>1.0</td>\n",
       "      <td>0.0</td>\n",
       "      <td>0.0</td>\n",
       "      <td>0.0</td>\n",
       "      <td>0.0</td>\n",
       "      <td>2.0</td>\n",
       "      <td>5.0</td>\n",
       "      <td>2.0</td>\n",
       "    </tr>\n",
       "    <tr>\n",
       "      <th>253678</th>\n",
       "      <td>0.0</td>\n",
       "      <td>1.0</td>\n",
       "      <td>0.0</td>\n",
       "      <td>1.0</td>\n",
       "      <td>23.0</td>\n",
       "      <td>0.0</td>\n",
       "      <td>0.0</td>\n",
       "      <td>0.0</td>\n",
       "      <td>0.0</td>\n",
       "      <td>1.0</td>\n",
       "      <td>1.0</td>\n",
       "      <td>0.0</td>\n",
       "      <td>1.0</td>\n",
       "      <td>0.0</td>\n",
       "      <td>3.0</td>\n",
       "      <td>0.0</td>\n",
       "      <td>0.0</td>\n",
       "      <td>0.0</td>\n",
       "      <td>1.0</td>\n",
       "      <td>7.0</td>\n",
       "      <td>5.0</td>\n",
       "      <td>1.0</td>\n",
       "    </tr>\n",
       "    <tr>\n",
       "      <th>253679</th>\n",
       "      <td>1.0</td>\n",
       "      <td>1.0</td>\n",
       "      <td>1.0</td>\n",
       "      <td>1.0</td>\n",
       "      <td>25.0</td>\n",
       "      <td>0.0</td>\n",
       "      <td>0.0</td>\n",
       "      <td>2.0</td>\n",
       "      <td>1.0</td>\n",
       "      <td>1.0</td>\n",
       "      <td>0.0</td>\n",
       "      <td>0.0</td>\n",
       "      <td>1.0</td>\n",
       "      <td>0.0</td>\n",
       "      <td>2.0</td>\n",
       "      <td>0.0</td>\n",
       "      <td>0.0</td>\n",
       "      <td>0.0</td>\n",
       "      <td>0.0</td>\n",
       "      <td>9.0</td>\n",
       "      <td>6.0</td>\n",
       "      <td>2.0</td>\n",
       "    </tr>\n",
       "  </tbody>\n",
       "</table>\n",
       "<p>253680 rows × 22 columns</p>\n",
       "</div>"
      ],
      "text/plain": [
       "        HeartDiseaseorAttack  HighBP  HighChol  CholCheck   BMI  Smoker  \\\n",
       "0                        0.0     1.0       1.0        1.0  40.0     1.0   \n",
       "1                        0.0     0.0       0.0        0.0  25.0     1.0   \n",
       "2                        0.0     1.0       1.0        1.0  28.0     0.0   \n",
       "3                        0.0     1.0       0.0        1.0  27.0     0.0   \n",
       "4                        0.0     1.0       1.0        1.0  24.0     0.0   \n",
       "...                      ...     ...       ...        ...   ...     ...   \n",
       "253675                   0.0     1.0       1.0        1.0  45.0     0.0   \n",
       "253676                   0.0     1.0       1.0        1.0  18.0     0.0   \n",
       "253677                   0.0     0.0       0.0        1.0  28.0     0.0   \n",
       "253678                   0.0     1.0       0.0        1.0  23.0     0.0   \n",
       "253679                   1.0     1.0       1.0        1.0  25.0     0.0   \n",
       "\n",
       "        Stroke  Diabetes  PhysActivity  Fruits  Veggies  HvyAlcoholConsump  \\\n",
       "0          0.0       0.0           0.0     0.0      1.0                0.0   \n",
       "1          0.0       0.0           1.0     0.0      0.0                0.0   \n",
       "2          0.0       0.0           0.0     1.0      0.0                0.0   \n",
       "3          0.0       0.0           1.0     1.0      1.0                0.0   \n",
       "4          0.0       0.0           1.0     1.0      1.0                0.0   \n",
       "...        ...       ...           ...     ...      ...                ...   \n",
       "253675     0.0       0.0           0.0     1.0      1.0                0.0   \n",
       "253676     0.0       2.0           0.0     0.0      0.0                0.0   \n",
       "253677     0.0       0.0           1.0     1.0      0.0                0.0   \n",
       "253678     0.0       0.0           0.0     1.0      1.0                0.0   \n",
       "253679     0.0       2.0           1.0     1.0      0.0                0.0   \n",
       "\n",
       "        AnyHealthcare  NoDocbcCost  GenHlth  MentHlth  PhysHlth  DiffWalk  \\\n",
       "0                 1.0          0.0      5.0      18.0      15.0       1.0   \n",
       "1                 0.0          1.0      3.0       0.0       0.0       0.0   \n",
       "2                 1.0          1.0      5.0      30.0      30.0       1.0   \n",
       "3                 1.0          0.0      2.0       0.0       0.0       0.0   \n",
       "4                 1.0          0.0      2.0       3.0       0.0       0.0   \n",
       "...               ...          ...      ...       ...       ...       ...   \n",
       "253675            1.0          0.0      3.0       0.0       5.0       0.0   \n",
       "253676            1.0          0.0      4.0       0.0       0.0       1.0   \n",
       "253677            1.0          0.0      1.0       0.0       0.0       0.0   \n",
       "253678            1.0          0.0      3.0       0.0       0.0       0.0   \n",
       "253679            1.0          0.0      2.0       0.0       0.0       0.0   \n",
       "\n",
       "        Sex   Age  Education  Income  \n",
       "0       0.0   9.0        4.0     3.0  \n",
       "1       0.0   7.0        6.0     1.0  \n",
       "2       0.0   9.0        4.0     8.0  \n",
       "3       0.0  11.0        3.0     6.0  \n",
       "4       0.0  11.0        5.0     4.0  \n",
       "...     ...   ...        ...     ...  \n",
       "253675  1.0   5.0        6.0     7.0  \n",
       "253676  0.0  11.0        2.0     4.0  \n",
       "253677  0.0   2.0        5.0     2.0  \n",
       "253678  1.0   7.0        5.0     1.0  \n",
       "253679  0.0   9.0        6.0     2.0  \n",
       "\n",
       "[253680 rows x 22 columns]"
      ]
     },
     "execution_count": 9,
     "metadata": {},
     "output_type": "execute_result"
    }
   ],
   "source": [
    "df = pd.read_csv(\"./DATA/heart_disease_health_indicators_BRFSS2015.csv\")\n",
    "df"
   ]
  },
  {
   "cell_type": "code",
   "execution_count": 10,
   "metadata": {},
   "outputs": [
    {
     "data": {
      "text/plain": [
       "0         0.0\n",
       "1         0.0\n",
       "2         0.0\n",
       "3         0.0\n",
       "4         0.0\n",
       "         ... \n",
       "253675    0.0\n",
       "253676    0.0\n",
       "253677    0.0\n",
       "253678    0.0\n",
       "253679    1.0\n",
       "Name: HeartDiseaseorAttack, Length: 253680, dtype: float64"
      ]
     },
     "execution_count": 10,
     "metadata": {},
     "output_type": "execute_result"
    }
   ],
   "source": [
    "y = df.HeartDiseaseorAttack\n",
    "y"
   ]
  },
  {
   "cell_type": "code",
   "execution_count": 11,
   "metadata": {},
   "outputs": [
    {
     "data": {
      "text/plain": [
       "(253680, 21)"
      ]
     },
     "execution_count": 11,
     "metadata": {},
     "output_type": "execute_result"
    }
   ],
   "source": [
    "x = df.drop(\"HeartDiseaseorAttack\", axis=1)\n",
    "x = x.to_numpy()\n",
    "x.shape\n"
   ]
  },
  {
   "cell_type": "code",
   "execution_count": null,
   "metadata": {},
   "outputs": [],
   "source": []
  },
  {
   "cell_type": "code",
   "execution_count": 17,
   "metadata": {},
   "outputs": [],
   "source": [
    "import implementations\n",
    "import gradient_descent\n",
    "import helpers\n",
    "from sklearn.model_selection import train_test_split\n",
    "from sklearn.metrics import accuracy_score\n",
    "\n",
    "#x, _, _ = helpers.standardize(x)\n",
    "#type(x)\n"
   ]
  },
  {
   "cell_type": "code",
   "execution_count": 18,
   "metadata": {},
   "outputs": [
    {
     "name": "stderr",
     "output_type": "stream",
     "text": [
      "/var/folders/qp/cry709397gb0wwnv8q7scvlc0000gn/T/ipykernel_96841/1854419472.py:30: RuntimeWarning: overflow encountered in power\n",
      "  poly = np.c_[poly, x**i]\n"
     ]
    },
    {
     "ename": "IndexError",
     "evalue": "index 167413 is out of bounds for axis 0 with size 6",
     "output_type": "error",
     "traceback": [
      "\u001b[0;31m---------------------------------------------------------------------------\u001b[0m",
      "\u001b[0;31mIndexError\u001b[0m                                Traceback (most recent call last)",
      "\u001b[1;32m/Users/francoisdumoncel/Library/Mobile Documents/com~apple~CloudDocs/Desktop/02-EPFL/MA1/ML/ml-project1/exploration.ipynb Cellule 16\u001b[0m line \u001b[0;36m4\n\u001b[1;32m     <a href='vscode-notebook-cell:/Users/francoisdumoncel/Library/Mobile%20Documents/com~apple~CloudDocs/Desktop/02-EPFL/MA1/ML/ml-project1/exploration.ipynb#X30sZmlsZQ%3D%3D?line=46'>47</a>\u001b[0m seed \u001b[39m=\u001b[39m \u001b[39m155\u001b[39m\n\u001b[1;32m     <a href='vscode-notebook-cell:/Users/francoisdumoncel/Library/Mobile%20Documents/com~apple~CloudDocs/Desktop/02-EPFL/MA1/ML/ml-project1/exploration.ipynb#X30sZmlsZQ%3D%3D?line=47'>48</a>\u001b[0m \u001b[39m# split data to train and test\u001b[39;00m\n\u001b[0;32m---> <a href='vscode-notebook-cell:/Users/francoisdumoncel/Library/Mobile%20Documents/com~apple~CloudDocs/Desktop/02-EPFL/MA1/ML/ml-project1/exploration.ipynb#X30sZmlsZQ%3D%3D?line=48'>49</a>\u001b[0m y_train, tx_train, y_test, tx_test \u001b[39m=\u001b[39m split_data_rand(y, x, ratio, seed)\n\u001b[1;32m     <a href='vscode-notebook-cell:/Users/francoisdumoncel/Library/Mobile%20Documents/com~apple~CloudDocs/Desktop/02-EPFL/MA1/ML/ml-project1/exploration.ipynb#X30sZmlsZQ%3D%3D?line=49'>50</a>\u001b[0m tx_train\u001b[39m.\u001b[39mshape\n\u001b[1;32m     <a href='vscode-notebook-cell:/Users/francoisdumoncel/Library/Mobile%20Documents/com~apple~CloudDocs/Desktop/02-EPFL/MA1/ML/ml-project1/exploration.ipynb#X30sZmlsZQ%3D%3D?line=50'>51</a>\u001b[0m \u001b[39m# w, loss = implementations.ridge_regression(y_train, tx_train, 0.001)\u001b[39;00m\n\u001b[1;32m     <a href='vscode-notebook-cell:/Users/francoisdumoncel/Library/Mobile%20Documents/com~apple~CloudDocs/Desktop/02-EPFL/MA1/ML/ml-project1/exploration.ipynb#X30sZmlsZQ%3D%3D?line=51'>52</a>\u001b[0m \u001b[39m# loss\u001b[39;00m\n",
      "\u001b[1;32m/Users/francoisdumoncel/Library/Mobile Documents/com~apple~CloudDocs/Desktop/02-EPFL/MA1/ML/ml-project1/exploration.ipynb Cellule 16\u001b[0m line \u001b[0;36m1\n\u001b[1;32m     <a href='vscode-notebook-cell:/Users/francoisdumoncel/Library/Mobile%20Documents/com~apple~CloudDocs/Desktop/02-EPFL/MA1/ML/ml-project1/exploration.ipynb#X30sZmlsZQ%3D%3D?line=13'>14</a>\u001b[0m index_te \u001b[39m=\u001b[39m indices[index_split:]\n\u001b[1;32m     <a href='vscode-notebook-cell:/Users/francoisdumoncel/Library/Mobile%20Documents/com~apple~CloudDocs/Desktop/02-EPFL/MA1/ML/ml-project1/exploration.ipynb#X30sZmlsZQ%3D%3D?line=15'>16</a>\u001b[0m \u001b[39m# create and return splits\u001b[39;00m\n\u001b[0;32m---> <a href='vscode-notebook-cell:/Users/francoisdumoncel/Library/Mobile%20Documents/com~apple~CloudDocs/Desktop/02-EPFL/MA1/ML/ml-project1/exploration.ipynb#X30sZmlsZQ%3D%3D?line=16'>17</a>\u001b[0m \u001b[39mreturn\u001b[39;00m y[index_tr], tx[index_tr], y[index_te], tx[index_te]\n",
      "\u001b[0;31mIndexError\u001b[0m: index 167413 is out of bounds for axis 0 with size 6"
     ]
    }
   ],
   "source": [
    "\n",
    "# x_train, x_test, y_train, y_test = train_test_split(x, y, test_size=0.3, random_state=500004)\n",
    "\n",
    "degrees = (7, 10, 10)\n",
    "\n",
    "def split_data_rand(y, tx, ratio, seed=1):\n",
    "    \"\"\"Randomly split the dataset, based on the split ratio and the given seed.\"\"\"\n",
    "    np.random.seed(seed)\n",
    "\n",
    "    # generate random indices\n",
    "    num_row = len(y)\n",
    "    indices = np.random.permutation(num_row)\n",
    "    index_split = int(np.floor(ratio * num_row))\n",
    "    index_tr = indices[: index_split]\n",
    "    index_te = indices[index_split:]\n",
    "\n",
    "    # create and return splits\n",
    "    return y[index_tr], tx[index_tr], y[index_te], tx[index_te]\n",
    "\n",
    "def build_poly(x, degree):\n",
    "    \"\"\"polynomial basis functions for input data x, for j=0 up to j=degree.\"\"\"\n",
    "    N = x.shape[0]\n",
    "    poly = np.ones((N,1))\n",
    "    \n",
    "    assert degree > 0\n",
    "    \n",
    "    if degree == 1:\n",
    "        return np.c_[poly, x]\n",
    "\n",
    "    for i in range(1, degree+1):\n",
    "        poly = np.c_[poly, x**i]\n",
    "    \n",
    "    return poly\n",
    "\n",
    "\n",
    "\n",
    "# max_iters = 1000\n",
    "# gamma = 0.00008\n",
    "# init_w = np.ones((x_train.shape[1], ))\n",
    "# w, loss = implementations.mean_squared_error_gd(y_train, x_train, init_w , max_iters, gamma)\n",
    "# w\n",
    "\n",
    "# w, loss = implementations.least_square(y_train, x_train)\n",
    "# loss\n",
    "\n",
    "x = build_poly(x, 3)\n",
    "ratio = 0.8\n",
    "seed = 155\n",
    "# split data to train and test\n",
    "y_train, tx_train, y_test, tx_test = split_data_rand(y, x, ratio, seed)\n",
    "tx_train.shape\n",
    "# w, loss = implementations.ridge_regression(y_train, tx_train, 0.001)\n",
    "# loss"
   ]
  },
  {
   "cell_type": "code",
   "execution_count": null,
   "metadata": {},
   "outputs": [
    {
     "ename": "NameError",
     "evalue": "name 'y_pred' is not defined",
     "output_type": "error",
     "traceback": [
      "\u001b[0;31m---------------------------------------------------------------------------\u001b[0m",
      "\u001b[0;31mNameError\u001b[0m                                 Traceback (most recent call last)",
      "\u001b[1;32m/Users/francoisdumoncel/Library/Mobile Documents/com~apple~CloudDocs/Desktop/02-EPFL/MA1/ML/ml-project1/exploration.ipynb Cellule 17\u001b[0m line \u001b[0;36m6\n\u001b[1;32m      <a href='vscode-notebook-cell:/Users/francoisdumoncel/Library/Mobile%20Documents/com~apple~CloudDocs/Desktop/02-EPFL/MA1/ML/ml-project1/exploration.ipynb#X31sZmlsZQ%3D%3D?line=3'>4</a>\u001b[0m w, loss \u001b[39m=\u001b[39m implementations\u001b[39m.\u001b[39mridge_regression(y, x, lambda_)\n\u001b[1;32m      <a href='vscode-notebook-cell:/Users/francoisdumoncel/Library/Mobile%20Documents/com~apple~CloudDocs/Desktop/02-EPFL/MA1/ML/ml-project1/exploration.ipynb#X31sZmlsZQ%3D%3D?line=4'>5</a>\u001b[0m seuil \u001b[39m=\u001b[39m \u001b[39m10\u001b[39m\n\u001b[0;32m----> <a href='vscode-notebook-cell:/Users/francoisdumoncel/Library/Mobile%20Documents/com~apple~CloudDocs/Desktop/02-EPFL/MA1/ML/ml-project1/exploration.ipynb#X31sZmlsZQ%3D%3D?line=5'>6</a>\u001b[0m y_pred_classes \u001b[39m=\u001b[39m (y_pred \u001b[39m>\u001b[39m seuil)\u001b[39m.\u001b[39mastype(\u001b[39mint\u001b[39m)\n\u001b[1;32m      <a href='vscode-notebook-cell:/Users/francoisdumoncel/Library/Mobile%20Documents/com~apple~CloudDocs/Desktop/02-EPFL/MA1/ML/ml-project1/exploration.ipynb#X31sZmlsZQ%3D%3D?line=6'>7</a>\u001b[0m accuracy \u001b[39m=\u001b[39m accuracy_score(y, y_pred_classes)\n\u001b[1;32m      <a href='vscode-notebook-cell:/Users/francoisdumoncel/Library/Mobile%20Documents/com~apple~CloudDocs/Desktop/02-EPFL/MA1/ML/ml-project1/exploration.ipynb#X31sZmlsZQ%3D%3D?line=7'>8</a>\u001b[0m \u001b[39m# print(f\"loss for {lambda_} : {loss}\")\u001b[39;00m\n",
      "\u001b[0;31mNameError\u001b[0m: name 'y_pred' is not defined"
     ]
    }
   ],
   "source": [
    "\n",
    "lambdas = np.linspace(0.00000001, 0.00001, 100)\n",
    "W_losses = {}\n",
    "for i, lambda_ in enumerate(lambdas): \n",
    "    w, loss = implementations.ridge_regression(y, x, lambda_)\n",
    "    seuil = 10\n",
    "    y_pred_classes = (y_pred > seuil).astype(int)\n",
    "    accuracy = accuracy_score(y, y_pred_classes)\n",
    "    # print(f\"loss for {lambda_} : {loss}\")\n",
    "    W_losses[loss] = (lambda_, accuracy)\n",
    "    \n",
    "print(min(W_losses.keys()), \"for\",  W_losses[min(W_losses.keys())])"
   ]
  },
  {
   "cell_type": "code",
   "execution_count": null,
   "metadata": {},
   "outputs": [
    {
     "name": "stdout",
     "output_type": "stream",
     "text": [
      "0.9058144118574583 (253680,)\n"
     ]
    }
   ],
   "source": [
    "y_pred = x.dot(w)\n",
    "\n",
    "from sklearn.metrics import accuracy_score\n",
    "\n",
    "seuil = 10\n",
    "y_pred_classes = (y_pred > seuil).astype(int)\n",
    "accuracy = accuracy_score(y, y_pred_classes)\n",
    "print(accuracy, y.shape)"
   ]
  },
  {
   "cell_type": "code",
   "execution_count": null,
   "metadata": {},
   "outputs": [
    {
     "name": "stdout",
     "output_type": "stream",
     "text": [
      "0.9090586565752129\n"
     ]
    },
    {
     "name": "stderr",
     "output_type": "stream",
     "text": [
      "/Users/francoisdumoncel/anaconda3/envs/ada/lib/python3.9/site-packages/sklearn/linear_model/_logistic.py:460: ConvergenceWarning: lbfgs failed to converge (status=1):\n",
      "STOP: TOTAL NO. of ITERATIONS REACHED LIMIT.\n",
      "\n",
      "Increase the number of iterations (max_iter) or scale the data as shown in:\n",
      "    https://scikit-learn.org/stable/modules/preprocessing.html\n",
      "Please also refer to the documentation for alternative solver options:\n",
      "    https://scikit-learn.org/stable/modules/linear_model.html#logistic-regression\n",
      "  n_iter_i = _check_optimize_result(\n"
     ]
    }
   ],
   "source": [
    "from sklearn.linear_model import LogisticRegression\n",
    "from sklearn.metrics import confusion_matrix\n",
    "\n",
    "model = LogisticRegression()\n",
    "model.fit(x_train, y_train)\n",
    "print(model.score(x_test, y_test))\n",
    "pred = model.predict(x_test)"
   ]
  },
  {
   "cell_type": "code",
   "execution_count": null,
   "metadata": {},
   "outputs": [],
   "source": [
    "# Load original data\n",
    "yb, input_data, ids = helpers.load_csv_data(\"./DATA/x_train.csv\")"
   ]
  },
  {
   "cell_type": "code",
   "execution_count": null,
   "metadata": {},
   "outputs": [
    {
     "data": {
      "text/plain": [
       "array([1., 1., 1., ..., 1., 1., 1.])"
      ]
     },
     "execution_count": 15,
     "metadata": {},
     "output_type": "execute_result"
    }
   ],
   "source": [
    "yb "
   ]
  },
  {
   "cell_type": "code",
   "execution_count": null,
   "metadata": {},
   "outputs": [
    {
     "data": {
      "text/plain": [
       "array([53, 33, 20, ..., 39, 33, 32])"
      ]
     },
     "execution_count": 17,
     "metadata": {},
     "output_type": "execute_result"
    }
   ],
   "source": [
    "ids"
   ]
  },
  {
   "cell_type": "code",
   "execution_count": null,
   "metadata": {},
   "outputs": [],
   "source": []
  }
 ],
 "metadata": {
  "kernelspec": {
   "display_name": "Python 3",
   "language": "python",
   "name": "python3"
  },
  "language_info": {
   "codemirror_mode": {
    "name": "ipython",
    "version": 3
   },
   "file_extension": ".py",
   "mimetype": "text/x-python",
   "name": "python",
   "nbconvert_exporter": "python",
   "pygments_lexer": "ipython3",
   "version": "3.9.18"
  },
  "orig_nbformat": 4
 },
 "nbformat": 4,
 "nbformat_minor": 2
}

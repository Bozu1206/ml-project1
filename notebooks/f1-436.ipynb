{
 "cells": [
  {
   "cell_type": "code",
   "execution_count": 36,
   "metadata": {},
   "outputs": [
    {
     "name": "stdout",
     "output_type": "stream",
     "text": [
      "The autoreload extension is already loaded. To reload it, use:\n",
      "  %reload_ext autoreload\n"
     ]
    }
   ],
   "source": [
    "import numpy as np\n",
    "import random\n",
    "import matplotlib.pyplot as plt\n",
    "import pandas as pd\n",
    "import csv\n",
    "import sys \n",
    "\n",
    "%load_ext autoreload\n",
    "%autoreload 2\n",
    "import os\n",
    "sys.path.append(\"../src\")\n",
    "import helpers, preprocessing, exploration, polynomial_exp\n",
    "from helpers import split_data_rand\n",
    "from helpers import build_model_data\n",
    "from json_parser import parse_json_file\n",
    "import fitters\n",
    "import metrics\n",
    "from preprocessing import clean_data\n",
    "from preprocessing import resample, prepare_data\n",
    "from colors import style"
   ]
  },
  {
   "cell_type": "code",
   "execution_count": 60,
   "metadata": {},
   "outputs": [
    {
     "name": "stdout",
     "output_type": "stream",
     "text": [
      "\u001b[1m\u001b[32mTest accuracy: 0.8742\u001b[0m\n",
      "\u001b[1m\u001b[33mF1-Score: 0.4212\u001b[0m\n"
     ]
    }
   ],
   "source": [
    "# Read and Load Data\n",
    "seed = 499912\n",
    "degree = 1\n",
    "\n",
    "x_df = pd.read_csv(\"../data/raw/x_train.csv\")\n",
    "y_df = pd.read_csv(\"../data/raw/y_train.csv\")\n",
    "\n",
    "x = x_df.values\n",
    "y = y_df[\"_MICHD\"].values\n",
    "\n",
    "# Prepare data for fittings :\n",
    "\n",
    "ratio = 0.69\n",
    "downsampling_size = 0.1808\n",
    "upsamplingsize = 1.04\n",
    "y_train, x_train, y_test, x_test = prepare_data(x, y, seed, ratio, downsampling_size, upsamplingsize)\n",
    "rrf = fitters.RidgeRegressionFitter(y_train, x_train, y_test, x_test, 10e-7, 0.151)\n",
    "w, loss = rrf.fit()\n",
    "metrics.agg_results_and_print_results(rrf, y_test, x_test, w)"
   ]
  },
  {
   "cell_type": "code",
   "execution_count": 44,
   "metadata": {},
   "outputs": [],
   "source": [
    "import helpers\n",
    "helpers.make_submission(rrf, w, \"testMTN.csv\")"
   ]
  },
  {
   "cell_type": "code",
   "execution_count": null,
   "metadata": {},
   "outputs": [],
   "source": []
  }
 ],
 "metadata": {
  "kernelspec": {
   "display_name": "ada",
   "language": "python",
   "name": "python3"
  },
  "language_info": {
   "codemirror_mode": {
    "name": "ipython",
    "version": 3
   },
   "file_extension": ".py",
   "mimetype": "text/x-python",
   "name": "python",
   "nbconvert_exporter": "python",
   "pygments_lexer": "ipython3",
   "version": "3.9.18"
  }
 },
 "nbformat": 4,
 "nbformat_minor": 2
}

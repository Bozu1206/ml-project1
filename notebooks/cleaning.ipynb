{
 "cells": [
  {
   "cell_type": "code",
   "execution_count": 1,
   "metadata": {},
   "outputs": [],
   "source": [
    "import sys\n",
    "sys.path.append(\"../src\")\n",
    "import numpy as np\n",
    "import helpers\n",
    "import implementations\n",
    "import fitters"
   ]
  },
  {
   "cell_type": "code",
   "execution_count": 2,
   "metadata": {},
   "outputs": [],
   "source": [
    "x_train, x_test, y_train, train_ids, test_ids = helpers.load_csv_data(\"../data/raw/\")"
   ]
  },
  {
   "cell_type": "code",
   "execution_count": 3,
   "metadata": {},
   "outputs": [],
   "source": [
    "from preprocessing import undefined_to_median, undefined_to_mean, prune_undefined\n",
    "\n",
    "indices = [26,27,28,30,32,33,39,42,43,44,46,48,50,80,232,234,237,238,242,246,253,259,264,278,279,284,288]\n",
    "x_train = x_train[:, indices]\n",
    "x_test = x_test[:, indices]"
   ]
  },
  {
   "cell_type": "code",
   "execution_count": 4,
   "metadata": {},
   "outputs": [],
   "source": [
    "def change_x_by_nan(feature, to_eleminate, to_replace=None):\n",
    "    for v in to_eleminate: \n",
    "        feature[feature == v] = np.nan\n",
    "    if to_replace is not None:\n",
    "        for key, value in to_replace.items():\n",
    "            feature[feature == key] = value\n",
    "    return feature\n",
    "\n",
    "for x in [x_train, x_test]:\n",
    "    change_x_by_nan(x[:, 0], [7, 9, 88]) # GENHEALT\n",
    "    change_x_by_nan(x[:, 1], [77, 99], {88: 0}) # PHYSHEAT\n",
    "    change_x_by_nan(x[:, 2], [77, 99], {88: 0}) # MENTALHEALTH\n",
    "    change_x_by_nan(x[:, 3],  [7, 9], {2: 0}) # HLTHPLN1\n",
    "    change_x_by_nan(x[:, 4],  [7, 9], {2: 0}) # MEDCOST1\n",
    "    change_x_by_nan(x[:, 5],  [7, 9], {8: 5}) # CHECKUP1\n",
    "    change_x_by_nan(x[:, 6],  [7, 9], {2: 0}) # CVDSTRK3\n",
    "    change_x_by_nan(x[:, 7],  [7, 9], {2: 0}) # CHCSCNCR\n",
    "    change_x_by_nan(x[:, 8],  [7, 9], {2: 0}) # CHCOCNCR\n",
    "    change_x_by_nan(x[:, 9],  [7, 9], {2: 0}) # CHCCOPD1\n",
    "    change_x_by_nan(x[:, 10], [7, 9], {2: 0}) # ADDEPEV2\n",
    "    change_x_by_nan(x[:, 23], [9], {2:0}) # _FRTLT1 \n",
    "    change_x_by_nan(x[:, 24], [9], {2:0}) # _VEGLT1 \n",
    "    change_x_by_nan(x[:, 25], [9], {2:0}) # _TOTINDA \n",
    "    change_x_by_nan(x[:, 11],  [7, 9], {2:0, 3:0, 1:2, 4:1}) # DIABETE3 ASK ELISA\n",
    "    #change_x_by_nan(x[:, 12], [7, 9], {2: 0}) # SEX ASK ELISA (Nothing to change)\n",
    "    change_x_by_nan(x[:, 13], [7, 9]) # MAXDRNKS\n",
    "    change_x_by_nan(x[:, 14], [9], {1:0, 2:1}) # _RFHYPE5\n",
    "    change_x_by_nan(x[:, 15], [9], {1:0, 2:1}) # _RFCHOL\n",
    "    change_x_by_nan(x[:, 16], [9], {3:0, 2:1, 1:2}) # _ASTHMS1 \n",
    "    change_x_by_nan(x[:, 17], [], {2:0}) # _DRDXAR1 \n",
    "    change_x_by_nan(x[:, 19], [14]) # _AGEG5YR \n",
    "    change_x_by_nan(x[:, 20], []) # _BMI5 \n",
    "    change_x_by_nan(x[:, 18], [9]) # _RACE \n",
    "    change_x_by_nan(x[:, 21], [9]) # _SMOKER3 \n",
    "    change_x_by_nan(x[:, 22], [99900]) # _DRNKWEK \n",
    "    change_x_by_nan(x[:, 26], [99900]) # FC60_ "
   ]
  },
  {
   "cell_type": "code",
   "execution_count": 5,
   "metadata": {},
   "outputs": [],
   "source": [
    "## REVISE THIS \n",
    "def nan_to_mean(x):\n",
    "    mean = np.nanmean(x, axis=0)\n",
    "    ids = np.where(np.isnan(x))\n",
    "    x[ids] = np.take(mean, ids[1])\n",
    "    \n",
    "nan_to_mean(x_train)\n",
    "nan_to_mean(x_test)\n",
    "assert(not np.isnan(x_train).any())\n",
    "assert(not np.isnan(x_test).any())"
   ]
  },
  {
   "cell_type": "code",
   "execution_count": 6,
   "metadata": {},
   "outputs": [
    {
     "name": "stdout",
     "output_type": "stream",
     "text": [
      "Train-Validate: Training error=44.27313622336532, Training accuracy=0.9110427110792814\n",
      "Train-Validate: Test error=44.013637453809935, Test accuracy=0.9110427110792814\n"
     ]
    }
   ],
   "source": [
    "gm = fitters.GradientFitter(y_train, x_train, 5000, 0.000001, 0.2)\n",
    "w, loss, (acc_tr, acc_te) = gm.fit()"
   ]
  },
  {
   "cell_type": "code",
   "execution_count": 7,
   "metadata": {},
   "outputs": [
    {
     "name": "stdout",
     "output_type": "stream",
     "text": [
      "Train-Validate: Training error=0.14304229174225458, Training accuracy=0.9110122358175751\n",
      "Train-Validate: Test error=0.14219718105983845, Test accuracy=0.9110122358175751\n"
     ]
    }
   ],
   "source": [
    "lsq = fitters.LeastSquareFitter(y_train, x_train, 0.2)\n",
    "w, loss, (acc_tr, acc_te) = lsq.fit()\n",
    "w, loss, (acc_tr, acc_te)"
   ]
  },
  {
   "cell_type": "code",
   "execution_count": 9,
   "metadata": {},
   "outputs": [
    {
     "name": "stdout",
     "output_type": "stream",
     "text": [
      "Train-Validate: Training error=0.14304238084515233, Training accuracy=0.9110122358175751\n",
      "Train-Validate: Test error=0.5332857566454976, Test accuracy=0.9110122358175751\n"
     ]
    }
   ],
   "source": [
    "rrf = fitters.RidgeRegressionFitter(y_train, x_train, 0.0001, 0.2)\n",
    "w, loss, (acc_tr, acc_te) = rrf.fit()"
   ]
  },
  {
   "cell_type": "code",
   "execution_count": 16,
   "metadata": {},
   "outputs": [],
   "source": [
    "# Use scikit to see \n",
    "from sklearn.linear_model import RidgeClassifier\n",
    "clf = RidgeClassifier().fit(x_train, y_train)\n",
    "clf.score(x_train, y_train)\n",
    "\n",
    "y_pred = clf.predict(x_test)\n",
    "\n",
    "helpers.create_csv_submission(test_ids, y_pred, \"RC.csv\")"
   ]
  },
  {
   "cell_type": "markdown",
   "metadata": {},
   "source": [
    "Random Oversampling: Randomly duplicate examples in the minority class.\n",
    "Random Undersampling: Randomly delete examples in the majority class."
   ]
  },
  {
   "cell_type": "markdown",
   "metadata": {},
   "source": []
  }
 ],
 "metadata": {
  "kernelspec": {
   "display_name": "ada",
   "language": "python",
   "name": "python3"
  },
  "language_info": {
   "codemirror_mode": {
    "name": "ipython",
    "version": 3
   },
   "file_extension": ".py",
   "mimetype": "text/x-python",
   "name": "python",
   "nbconvert_exporter": "python",
   "pygments_lexer": "ipython3",
   "version": "3.9.18"
  }
 },
 "nbformat": 4,
 "nbformat_minor": 2
}
